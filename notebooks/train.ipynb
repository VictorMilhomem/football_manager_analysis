{
 "cells": [
  {
   "cell_type": "code",
   "execution_count": 20,
   "id": "63dd13d4-2fd3-46f9-8f8c-20f0df356f98",
   "metadata": {},
   "outputs": [],
   "source": [
    "import numpy as np\n",
    "import pandas as pd\n",
    "from sklearn.preprocessing import OneHotEncoder\n",
    "from sklearn.preprocessing import StandardScaler\n",
    "from sklearn.model_selection import train_test_split\n",
    "from sklearn.feature_selection import RFECV\n",
    "from sklearn.metrics import r2_score\n",
    "from sklearn.ensemble import RandomForestRegressor\n",
    "from sklearn.svm import LinearSVR, NuSVR, SVR\n",
    "from sklearn.linear_model import SGDRegressor"
   ]
  },
  {
   "cell_type": "code",
   "execution_count": 21,
   "id": "ad7ea196-c3b0-45f7-b3c3-21627841be01",
   "metadata": {
    "tags": []
   },
   "outputs": [],
   "source": [
    "# Help functions\n",
    "\n",
    "SEED=42\n",
    "\n",
    "def read_file(filepath):\n",
    "        filepath = filepath\n",
    "        return pd.read_csv(filepath)\n",
    "\n",
    "def clean_data( dataset, columns: list):\n",
    "        return dataset.drop(columns=columns)\n",
    "    \n",
    "def encode( dataset, columns: list):\n",
    "    # Encode the labels\n",
    "    ohe = OneHotEncoder()\n",
    "    encoded = ohe.fit_transform(dataset[columns]).toarray()\n",
    "    columns = ohe.get_feature_names_out(columns)\n",
    "    encoded_df = pd.DataFrame(encoded, columns=columns)\n",
    "    dataset = pd.concat([dataset, encoded_df], axis=1)\n",
    "    return dataset.drop(columns=columns)\n",
    "\n",
    "def normalize(dataset, columns: list):\n",
    "    # Normalize the dataset\n",
    "    norm = StandardScaler()\n",
    "    norm_ = norm.fit_transform(dataset[columns])\n",
    "    norm_df = pd.DataFrame(norm_, columns=[col + \"_norm\" for col in columns])\n",
    "    dataset = pd.concat([dataset, norm_df], axis=1)\n",
    "    return dataset.drop(columns=columns)\n",
    "\n",
    "\n",
    "def split_dataset(dataset, columns_X, column_y):\n",
    "    X = dataset.drop(columns=columns_X, axis=1)\n",
    "    y = dataset[column_y]\n",
    "    return X, y\n",
    "\n",
    "def print_r2_score(y_test, y_pred):\n",
    "    acc = r2_score(y_test, y_pred) * 100\n",
    "    print(f\"R2 Score: {acc} %\")\n",
    "    return acc\n"
   ]
  },
  {
   "attachments": {},
   "cell_type": "markdown",
   "id": "4783e20c",
   "metadata": {},
   "source": [
    "# Reading the data"
   ]
  },
  {
   "cell_type": "code",
   "execution_count": 22,
   "id": "63987bdd-f5f5-42a1-b7c8-44dad63c3697",
   "metadata": {},
   "outputs": [],
   "source": [
    "np.random.seed(SEED)\n",
    "dataset = read_file(\"../FM 2023.csv\")\n",
    "\n",
    "dataset = clean_data(dataset, columns=[\"Rental club\",\n",
    "                                \"Salary\",\n",
    "                                \"Values\",\n",
    "                                \"Race\",\n",
    "                                \"UID\", \n",
    "                                \"Date of birth\",\n",
    "                                \"Colour of skin\",\n",
    "                                \"RCA\",\n",
    "                                \"Race\",\n",
    "                                \"Club\",\n",
    "                                \"Nationality\",\n",
    "                                \"Name\",\n",
    "                                \"Position\",\n",
    "                                \"Current reputation\", \n",
    "                                \"Domestic reputation\",\n",
    "                                \"World reputation\"\n",
    "                                ]\n",
    "                )"
   ]
  },
  {
   "cell_type": "markdown",
   "id": "c0793bdb-6683-4b3f-8617-cab06d9c32cb",
   "metadata": {},
   "source": [
    "# Training a Random Forest Regressor"
   ]
  },
  {
   "cell_type": "code",
   "execution_count": 23,
   "id": "536376b7-d377-4382-a39d-6c6dbbc0b731",
   "metadata": {},
   "outputs": [
    {
     "name": "stdout",
     "output_type": "stream",
     "text": [
      "R2 Score: 84.41210126314476 %\n"
     ]
    }
   ],
   "source": [
    "#baseline = RandomForestRegressor(n_estimators=3000, n_jobs=-1, max_depth=50, max_leaf_nodes=55)\n",
    "#without_reputation_baseline = RandomForestRegressor(n_estimators=2000, n_jobs=-1, max_depth=10)\n",
    "\n",
    "X = dataset.drop(columns=[\"ca\", \"pa\"], axis=1)\n",
    "y = dataset[\"ca\"]\n",
    "X_train, X_test, y_train, y_test = train_test_split(X,\n",
    "                                                    y,\n",
    "                                                    test_size=0.3,\n",
    "                                                    random_state=SEED\n",
    ")\n",
    "\n",
    "model = RandomForestRegressor(n_estimators=2000, n_jobs=-1, max_depth=10)\n",
    "model.fit(X_train, y_train)\n",
    "\n",
    "y_pred = model.predict(X_test)\n",
    "\n",
    "acc = print_r2_score(y_test, y_pred)"
   ]
  },
  {
   "attachments": {},
   "cell_type": "markdown",
   "id": "dbe1b002",
   "metadata": {},
   "source": [
    "# Normalizing the dataset to train SVM models"
   ]
  },
  {
   "cell_type": "code",
   "execution_count": 24,
   "id": "11dc6f34",
   "metadata": {},
   "outputs": [],
   "source": [
    "dataset = normalize(dataset, dataset.columns)"
   ]
  },
  {
   "attachments": {},
   "cell_type": "markdown",
   "id": "04d79aac",
   "metadata": {},
   "source": [
    "# Training Linear SVR"
   ]
  },
  {
   "cell_type": "code",
   "execution_count": 25,
   "id": "3cf2131b-5f33-4957-b37c-9d962bea3e44",
   "metadata": {},
   "outputs": [
    {
     "name": "stdout",
     "output_type": "stream",
     "text": [
      "R2 Score: 91.2975482546584 %\n"
     ]
    },
    {
     "name": "stderr",
     "output_type": "stream",
     "text": [
      "c:\\Users\\victo\\anaconda3\\envs\\footballmanager_analysis\\lib\\site-packages\\sklearn\\svm\\_base.py:1244: ConvergenceWarning: Liblinear failed to converge, increase the number of iterations.\n",
      "  warnings.warn(\n"
     ]
    }
   ],
   "source": [
    "\n",
    "X = dataset.drop(columns=[\"ca_norm\", \"pa_norm\"], axis=1)\n",
    "y = dataset[\"ca_norm\"]\n",
    "X_train, X_test, y_train, y_test = train_test_split(X,\n",
    "                                                    y,\n",
    "                                                    test_size=0.3,\n",
    "                                                    random_state=SEED\n",
    ")\n",
    "\n",
    "lin_svr = LinearSVR()\n",
    "lin_svr.fit(X_train, y_train)\n",
    "\n",
    "y_pred = lin_svr.predict(X_test)\n",
    "\n",
    "acc = print_r2_score(y_test, y_pred)\n"
   ]
  },
  {
   "attachments": {},
   "cell_type": "markdown",
   "id": "8d417b1f",
   "metadata": {},
   "source": [
    "# Training NuSVR"
   ]
  },
  {
   "cell_type": "code",
   "execution_count": 26,
   "id": "972b1f4e-c121-4747-b71d-dfbcfa602390",
   "metadata": {},
   "outputs": [
    {
     "name": "stdout",
     "output_type": "stream",
     "text": [
      "R2 Score: 95.52816097530203 %\n"
     ]
    }
   ],
   "source": [
    "nu_svr = NuSVR()\n",
    "nu_svr.fit(X_train, y_train)\n",
    "\n",
    "y_pred = nu_svr.predict(X_test)\n",
    "\n",
    "acc = print_r2_score(y_test, y_pred)"
   ]
  },
  {
   "attachments": {},
   "cell_type": "markdown",
   "id": "e3500257",
   "metadata": {},
   "source": [
    "# Training SVR"
   ]
  },
  {
   "cell_type": "code",
   "execution_count": 27,
   "id": "b9440808-84f0-4428-b272-8c6550ebee7f",
   "metadata": {},
   "outputs": [
    {
     "name": "stdout",
     "output_type": "stream",
     "text": [
      "R2 Score: 95.2074077468832 %\n"
     ]
    }
   ],
   "source": [
    "svr = SVR()\n",
    "svr.fit(X_train, y_train)\n",
    "\n",
    "y_pred = svr.predict(X_test)\n",
    "\n",
    "acc = print_r2_score(y_test, y_pred)"
   ]
  },
  {
   "attachments": {},
   "cell_type": "markdown",
   "id": "145b2e0f",
   "metadata": {},
   "source": [
    "# Training SGDRegressor"
   ]
  },
  {
   "cell_type": "code",
   "execution_count": 28,
   "id": "0f8c9c6e-4459-47b0-b970-1d2337add5f2",
   "metadata": {},
   "outputs": [
    {
     "name": "stdout",
     "output_type": "stream",
     "text": [
      "R2 Score: 91.85531133221053 %\n"
     ]
    }
   ],
   "source": [
    "sgd = SGDRegressor()\n",
    "sgd.fit(X_train, y_train)\n",
    "\n",
    "y_pred = sgd.predict(X_test)\n",
    "\n",
    "acc = print_r2_score(y_test, y_pred)"
   ]
  },
  {
   "cell_type": "code",
   "execution_count": null,
   "id": "6b68f418",
   "metadata": {},
   "outputs": [],
   "source": []
  }
 ],
 "metadata": {
  "kernelspec": {
   "display_name": "Python 3 (ipykernel)",
   "language": "python",
   "name": "python3"
  },
  "language_info": {
   "codemirror_mode": {
    "name": "ipython",
    "version": 3
   },
   "file_extension": ".py",
   "mimetype": "text/x-python",
   "name": "python",
   "nbconvert_exporter": "python",
   "pygments_lexer": "ipython3",
   "version": "3.10.10"
  }
 },
 "nbformat": 4,
 "nbformat_minor": 5
}
