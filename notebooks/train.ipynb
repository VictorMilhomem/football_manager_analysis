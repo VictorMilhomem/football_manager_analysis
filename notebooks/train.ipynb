{
 "cells": [
  {
   "cell_type": "code",
   "execution_count": 51,
   "id": "63dd13d4-2fd3-46f9-8f8c-20f0df356f98",
   "metadata": {},
   "outputs": [],
   "source": [
    "import numpy as np\n",
    "import pandas as pd\n",
    "from sklearn.preprocessing import OneHotEncoder\n",
    "from sklearn.preprocessing import StandardScaler\n",
    "from sklearn.model_selection import train_test_split, cross_val_score\n",
    "from sklearn.feature_selection import RFECV\n",
    "from sklearn.metrics import r2_score, mean_squared_error\n",
    "from sklearn.ensemble import RandomForestRegressor\n",
    "from sklearn.svm import LinearSVR, NuSVR, SVR\n",
    "from sklearn.linear_model import SGDRegressor"
   ]
  },
  {
   "cell_type": "code",
   "execution_count": 52,
   "id": "ad7ea196-c3b0-45f7-b3c3-21627841be01",
   "metadata": {
    "tags": []
   },
   "outputs": [],
   "source": [
    "# Help functions\n",
    "\n",
    "SEED=42\n",
    "\n",
    "def read_file(filepath):\n",
    "        filepath = filepath\n",
    "        return pd.read_csv(filepath)\n",
    "\n",
    "def clean_data( dataset, columns: list):\n",
    "        return dataset.drop(columns=columns)\n",
    "    \n",
    "def encode( dataset, columns: list):\n",
    "    # Encode the labels\n",
    "    ohe = OneHotEncoder()\n",
    "    encoded = ohe.fit_transform(dataset[columns]).toarray()\n",
    "    columns = ohe.get_feature_names_out(columns)\n",
    "    encoded_df = pd.DataFrame(encoded, columns=columns)\n",
    "    dataset = pd.concat([dataset, encoded_df], axis=1)\n",
    "    return dataset.drop(columns=columns)\n",
    "\n",
    "def normalize(dataset, columns: list):\n",
    "    # Normalize the dataset\n",
    "    norm = StandardScaler()\n",
    "    norm_ = norm.fit_transform(dataset[columns])\n",
    "    norm_df = pd.DataFrame(norm_, columns=[col + \"_norm\" for col in columns])\n",
    "    dataset = pd.concat([dataset, norm_df], axis=1)\n",
    "    return dataset.drop(columns=columns)\n",
    "\n",
    "\n",
    "def split_dataset(dataset, columns_X, column_y):\n",
    "    X = dataset.drop(columns=columns_X, axis=1)\n",
    "    y = dataset[column_y]\n",
    "    return X, y\n",
    "\n",
    "def print_r2_score(y_test, y_pred):\n",
    "    acc = r2_score(y_test, y_pred)\n",
    "    print(f\"R2 Score: {acc} \")\n",
    "    return acc\n",
    "\n",
    "def print_mse(y_test, y_pred):\n",
    "    acc = mean_squared_error(y_test, y_pred)\n",
    "    print(f\"MSE Score: {acc} \")\n",
    "    return acc\n",
    "\n",
    "def cross(model, X, y, cv=5, scoring=\"neg_mean_squared_error\"):\n",
    "    score = cross_val_score(model, X, y, cv=cv, scoring=scoring)\n",
    "    lin_r2_scores = np.sqrt(-score)\n",
    "    print(f\"Scores: {lin_r2_scores}\")\n",
    "    print(f\"Mean: {lin_r2_scores.mean()}\")\n",
    "    print(f\"Standard Deviation: {lin_r2_scores.std()}\")\n",
    "\n",
    "\n",
    "def reduce(model, X_train, X_test,y_train,step=1, cv=5):\n",
    "    selector = RFECV(model, step=step, cv=cv, scoring='r2')\n",
    "    selector = selector.fit(X_train, y_train)\n",
    "    X_train_rfecv = selector.transform(X_train)\n",
    "    X_test_rfecv = selector.transform(X_test)\n",
    "    return X_train_rfecv, X_test_rfecv"
   ]
  },
  {
   "attachments": {},
   "cell_type": "markdown",
   "id": "4783e20c",
   "metadata": {},
   "source": [
    "# Reading the data"
   ]
  },
  {
   "cell_type": "code",
   "execution_count": 53,
   "id": "63987bdd-f5f5-42a1-b7c8-44dad63c3697",
   "metadata": {},
   "outputs": [],
   "source": [
    "np.random.seed(SEED)\n",
    "def fetch_data():\n",
    "    dataset = read_file(\"../FM 2023.csv\")\n",
    "\n",
    "    dataset = clean_data(dataset, columns=[\"Rental club\",\n",
    "                                    \"Salary\",\n",
    "                                    \"Values\",\n",
    "                                    \"Race\",\n",
    "                                    \"UID\", \n",
    "                                    \"Date of birth\",\n",
    "                                    \"Colour of skin\",\n",
    "                                    \"RCA\",\n",
    "                                    \"Race\",\n",
    "                                    \"Club\",\n",
    "                                    \"Nationality\",\n",
    "                                    \"Name\",\n",
    "                                    \"Position\",\n",
    "                                    \"Current reputation\", \n",
    "                                    \"Domestic reputation\",\n",
    "                                    \"World reputation\"\n",
    "                                    ]\n",
    "                    )\n",
    "    return dataset"
   ]
  },
  {
   "cell_type": "markdown",
   "id": "c0793bdb-6683-4b3f-8617-cab06d9c32cb",
   "metadata": {},
   "source": [
    "# Training a Random Forest Regressor"
   ]
  },
  {
   "cell_type": "code",
   "execution_count": 68,
   "id": "821501c7",
   "metadata": {},
   "outputs": [],
   "source": [
    "# data separation for training random forest regressor\n",
    "dataset = fetch_data()\n",
    "X = dataset.drop(columns=[\"ca\", \"pa\"], axis=1)\n",
    "y = dataset[\"ca\"]\n",
    "X_train, X_test, y_train, y_test = train_test_split(X,\n",
    "                                                    y,\n",
    "                                                    test_size=0.3,\n",
    "                                                    random_state=SEED\n",
    ")"
   ]
  },
  {
   "cell_type": "code",
   "execution_count": 69,
   "id": "536376b7-d377-4382-a39d-6c6dbbc0b731",
   "metadata": {},
   "outputs": [
    {
     "name": "stdout",
     "output_type": "stream",
     "text": [
      "MSE Score: 49.37435243603224 \n",
      "R2 Score: 0.852451293315564 \n",
      "Scores: [20.16986565  6.96620807  4.28310673  3.76532049  3.8685325   4.33958523\n",
      "  5.36204709  6.03787454  8.96522576 23.80515406]\n",
      "Mean: 8.756292012644952\n",
      "Standard Deviation: 6.83530052799836\n"
     ]
    }
   ],
   "source": [
    "run = False\n",
    "if run: \n",
    "    model = RandomForestRegressor(bootstrap=True, criterion=\"squared_error\", max_depth=None,\n",
    "                                max_features=6, max_leaf_nodes=None, min_samples_leaf=1,\n",
    "                                min_samples_split=2, min_weight_fraction_leaf=0.0,\n",
    "                                n_estimators=30, n_jobs=1, oob_score=False, random_state=None,\n",
    "                                verbose=0, warm_start=False\n",
    "    )\n",
    "    model.fit(X_train, y_train)\n",
    "\n",
    "    y_pred = model.predict(X_test)\n",
    "\n",
    "    mse = print_mse(y_test, y_pred)\n",
    "    r2 = print_r2_score(y_test, y_pred)\n",
    "    cross(model, X, y, cv=10)"
   ]
  },
  {
   "attachments": {},
   "cell_type": "markdown",
   "id": "dbe1b002",
   "metadata": {},
   "source": [
    "# Normalizing the dataset to train SVM models"
   ]
  },
  {
   "cell_type": "code",
   "execution_count": 66,
   "id": "11dc6f34",
   "metadata": {},
   "outputs": [],
   "source": [
    "dataset = fetch_data()\n",
    "dataset = normalize(dataset, dataset.columns)\n",
    "\n",
    "X = dataset.drop(columns=[\"ca_norm\", \"pa_norm\"], axis=1)\n",
    "y = dataset[\"ca_norm\"]\n",
    "X_train, X_test, y_train, y_test = train_test_split(X,\n",
    "                                                    y,\n",
    "                                                    test_size=0.3,\n",
    "                                                    random_state=SEED\n",
    ")\n",
    "\n"
   ]
  },
  {
   "attachments": {},
   "cell_type": "markdown",
   "id": "04d79aac",
   "metadata": {},
   "source": [
    "# Training Linear SVR"
   ]
  },
  {
   "cell_type": "code",
   "execution_count": 57,
   "id": "3cf2131b-5f33-4957-b37c-9d962bea3e44",
   "metadata": {},
   "outputs": [],
   "source": [
    "run = False\n",
    "if run: \n",
    "    lin_svr = LinearSVR(max_iter=100000)\n",
    "\n",
    "    lin_svr.fit(X_train, y_train)\n",
    "\n",
    "    y_pred = lin_svr.predict(X_test)\n",
    "\n",
    "    mse = print_mse(y_test, y_pred)\n",
    "    r2 = print_r2_score(y_test, y_pred)\n",
    "    cross(lin_svr, X, y)"
   ]
  },
  {
   "attachments": {},
   "cell_type": "markdown",
   "id": "8d417b1f",
   "metadata": {},
   "source": [
    "# Training NuSVR"
   ]
  },
  {
   "cell_type": "code",
   "execution_count": 61,
   "id": "972b1f4e-c121-4747-b71d-dfbcfa602390",
   "metadata": {},
   "outputs": [
    {
     "name": "stdout",
     "output_type": "stream",
     "text": [
      "MSE Score: 0.04660698664542275 \n",
      "R2 Score: 0.9552816097530203 \n",
      "Scores: [0.64747532 0.15859356 0.14022294 0.1355774  0.13189186 0.14505592\n",
      " 0.14649644 0.16860919 0.24662369 0.85559248]\n",
      "Mean: 0.27761388105255996\n",
      "Standard Deviation: 0.24349824058068015\n"
     ]
    }
   ],
   "source": [
    "run = False\n",
    "if run: \n",
    "    nu_svr = NuSVR()\n",
    "    nu_svr.fit(X_train, y_train)\n",
    "\n",
    "    y_pred = nu_svr.predict(X_test)\n",
    "\n",
    "    mse = print_mse(y_test, y_pred)\n",
    "    r2 = print_r2_score(y_test, y_pred)\n",
    "    cross(nu_svr, X, y, cv=10)"
   ]
  },
  {
   "attachments": {},
   "cell_type": "markdown",
   "id": "e3500257",
   "metadata": {},
   "source": [
    "# Training SVR"
   ]
  },
  {
   "cell_type": "code",
   "execution_count": 59,
   "id": "b9440808-84f0-4428-b272-8c6550ebee7f",
   "metadata": {},
   "outputs": [
    {
     "name": "stdout",
     "output_type": "stream",
     "text": [
      "MSE Score: 0.04994998297217503 \n",
      "R2 Score: 0.9520740774688321 \n",
      "Scores: [0.71036781 0.16600078 0.14655577 0.13930497 0.13700243 0.14891674\n",
      " 0.15191355 0.17240578 0.25081231 0.9250833 ]\n",
      "Mean: 0.2948363447131966\n",
      "Standard Deviation: 0.26762132364100627\n"
     ]
    }
   ],
   "source": [
    "run = False\n",
    "if run:\n",
    "    svr = SVR()\n",
    "    svr.fit(X_train, y_train)\n",
    "\n",
    "    y_pred = svr.predict(X_test)\n",
    "\n",
    "    mse = print_mse(y_test, y_pred)\n",
    "    r2 = print_r2_score(y_test, y_pred)\n",
    "    cross(svr, X, y, cv=10)"
   ]
  },
  {
   "attachments": {},
   "cell_type": "markdown",
   "id": "145b2e0f",
   "metadata": {},
   "source": [
    "# Training SGDRegressor"
   ]
  },
  {
   "cell_type": "code",
   "execution_count": 60,
   "id": "0f8c9c6e-4459-47b0-b970-1d2337add5f2",
   "metadata": {},
   "outputs": [
    {
     "name": "stdout",
     "output_type": "stream",
     "text": [
      "MSE Score: 0.08921468900994277 \n",
      "R2 Score: 0.914400445811672 \n",
      "Scores: [0.46536441 0.26520274 0.26960462 0.25351387 0.25627827 0.25601392\n",
      " 0.26685587 0.26724021 0.32512856 0.42065483]\n",
      "Mean: 0.30458572914993254\n",
      "Standard Deviation: 0.07255199621095787\n"
     ]
    }
   ],
   "source": [
    "run = False\n",
    "if run:\n",
    "    sgd = SGDRegressor()\n",
    "    sgd.fit(X_train, y_train)\n",
    "\n",
    "    y_pred = sgd.predict(X_test)\n",
    "\n",
    "    mse = print_mse(y_test, y_pred)\n",
    "    r2 = print_r2_score(y_test, y_pred)\n",
    "    cross(sgd, X, y, cv=10)"
   ]
  },
  {
   "cell_type": "code",
   "execution_count": null,
   "id": "6b68f418",
   "metadata": {},
   "outputs": [],
   "source": []
  }
 ],
 "metadata": {
  "kernelspec": {
   "display_name": "Python 3 (ipykernel)",
   "language": "python",
   "name": "python3"
  },
  "language_info": {
   "codemirror_mode": {
    "name": "ipython",
    "version": 3
   },
   "file_extension": ".py",
   "mimetype": "text/x-python",
   "name": "python",
   "nbconvert_exporter": "python",
   "pygments_lexer": "ipython3",
   "version": "3.10.10"
  }
 },
 "nbformat": 4,
 "nbformat_minor": 5
}
